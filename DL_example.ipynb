{
 "cells": [
  {
   "cell_type": "markdown",
   "metadata": {},
   "source": [
    "# Семинар по обучению полносвязных нейросетей в Pytorch\n",
    "\n",
    "На этом семинаре мы будем обучать полносвзяную нейроную сеть на данных MNIST - изображениях рукописных цифр.\n",
    "\n",
    "Мы будем использовать библиотеку Pytorch - это одна из двух наиболее популярных и часто используемых библиотек для обучения нейронных сетей."
   ]
  },
  {
   "cell_type": "markdown",
   "metadata": {},
   "source": [
    "### Загрузка данных"
   ]
  },
  {
   "cell_type": "code",
   "execution_count": 81,
   "metadata": {},
   "outputs": [],
   "source": [
    "import torch \n",
    "import torch.nn as nn\n",
    "import torch.nn.functional as F\n",
    "import numpy as np\n",
    "import torch.utils.data"
   ]
  },
  {
   "cell_type": "code",
   "execution_count": 58,
   "metadata": {},
   "outputs": [],
   "source": [
    "from matplotlib import pyplot as plt\n",
    "%matplotlib inline"
   ]
  },
  {
   "cell_type": "markdown",
   "metadata": {},
   "source": [
    "Мы будем работать с данными MNIST: это набор из 60000 изображений цифр размером 28x28. \n",
    "\n",
    "В Pytorch есть своя обертка, позволяющая скачивать MNIST автоматически, но нам будет удобнее скачать его самостоятельно."
   ]
  },
  {
   "cell_type": "code",
   "execution_count": 59,
   "metadata": {},
   "outputs": [],
   "source": [
    "from util import load_mnist"
   ]
  },
  {
   "cell_type": "code",
   "execution_count": 60,
   "metadata": {},
   "outputs": [],
   "source": [
    "X_train, y_train, X_test, y_test = load_mnist()"
   ]
  },
  {
   "cell_type": "markdown",
   "metadata": {},
   "source": [
    "Данные уже разделены на обучающую и тестовую части!\n",
    "\n",
    "Посмотрим на форму всех загруженных переменных:"
   ]
  },
  {
   "cell_type": "code",
   "execution_count": 61,
   "metadata": {},
   "outputs": [
    {
     "data": {
      "text/plain": [
       "((60000, 1, 28, 28), (10000, 1, 28, 28), (60000,), (10000,))"
      ]
     },
     "execution_count": 61,
     "metadata": {},
     "output_type": "execute_result"
    }
   ],
   "source": [
    "X_train.shape, X_test.shape, y_train.shape, y_test.shape"
   ]
  },
  {
   "cell_type": "markdown",
   "metadata": {},
   "source": [
    "Визуализируем несколько объектов обучающей выборки:"
   ]
  },
  {
   "cell_type": "code",
   "execution_count": 62,
   "metadata": {},
   "outputs": [
    {
     "data": {
      "image/png": "[encoded data removed]",
      "text/plain": [
       "<Figure size 648x230.4 with 10 Axes>"
      ]
     },
     "metadata": {
      "needs_background": "light"
     },
     "output_type": "display_data"
    }
   ],
   "source": [
    "plt.figure(figsize=(9, 3.2))\n",
    "for im in range(10):\n",
    "    plt.subplot(2, 5, im+1)\n",
    "    plt.imshow(X_train[im, 0], cmap=\"Greys\")"
   ]
  },
  {
   "cell_type": "markdown",
   "metadata": {},
   "source": [
    "А вот так выглядят данные в виде таблицы объекты-признаки:"
   ]
  },
  {
   "cell_type": "code",
   "execution_count": 63,
   "metadata": {},
   "outputs": [
    {
     "data": {
      "text/plain": [
       "array([[[[0., 0., 0., ..., 0., 0., 0.],\n",
       "         [0., 0., 0., ..., 0., 0., 0.],\n",
       "         [0., 0., 0., ..., 0., 0., 0.],\n",
       "         ...,\n",
       "         [0., 0., 0., ..., 0., 0., 0.],\n",
       "         [0., 0., 0., ..., 0., 0., 0.],\n",
       "         [0., 0., 0., ..., 0., 0., 0.]]],\n",
       "\n",
       "\n",
       "       [[[0., 0., 0., ..., 0., 0., 0.],\n",
       "         [0., 0., 0., ..., 0., 0., 0.],\n",
       "         [0., 0., 0., ..., 0., 0., 0.],\n",
       "         ...,\n",
       "         [0., 0., 0., ..., 0., 0., 0.],\n",
       "         [0., 0., 0., ..., 0., 0., 0.],\n",
       "         [0., 0., 0., ..., 0., 0., 0.]]]], dtype=float32)"
      ]
     },
     "execution_count": 63,
     "metadata": {},
     "output_type": "execute_result"
    }
   ],
   "source": [
    "X_train[:2]"
   ]
  },
  {
   "cell_type": "markdown",
   "metadata": {},
   "source": [
    "### Подготовка данных\n",
    "\n",
    "При обучении нейронной сети нам понадобится генерировать мини-батчи объектов. Для этого мы воспользуемся специальными инструментами Pytorch. Мы сократим набор данных для обучения, чтобы оно шло быстрее:"
   ]
  },
  {
   "cell_type": "code",
   "execution_count": 86,
   "metadata": {},
   "outputs": [],
   "source": [
    "def get_loader(X, y, batch_size=64):\n",
    "    train = torch.utils.data.TensorDataset(torch.from_numpy(X).\\\n",
    "                                                reshape(-1, 28*28).float(), \n",
    "                                           torch.from_numpy(y).long())\n",
    "    train_loader = torch.utils.data.DataLoader(train, \n",
    "                                               batch_size=batch_size)\n",
    "    return train_loader\n",
    "\n",
    "train_loader = get_loader(X_train[:15000], y_train[:15000])\n",
    "test_loader = get_loader(X_train[15000:30000], y_train[15000:30000])\n",
    "\n",
    "train_loader_full = get_loader(X_train, y_train) \n",
    "test_loader = get_loader(X_test, y_test)"
   ]
  },
  {
   "cell_type": "markdown",
   "metadata": {},
   "source": [
    "### Сборка нейронной сети\n",
    "\n",
    "Нейронные сети обычно \"собирают\" из готовых слоев. В методе \\_\\_init\\_\\_ нужно указать все слои, которые будут использованы, а в методе forward нужно указать, как выполняется _проход вперед_. Иными словами, какие преобразования нужно выполнить, чтобы получить предсказания.\n",
    "\n",
    "Составим нейронную сеть из трех полносвязных слоев с нелинейностью ReLU:"
   ]
  },
  {
   "cell_type": "code",
   "execution_count": 65,
   "metadata": {},
   "outputs": [],
   "source": [
    "class OurFirstNet(nn.Module):\n",
    "    def __init__(self, k=1):\n",
    "        super(OurFirstNet, self).__init__()\n",
    "        self.fc1 = nn.Linear(28*28, 120)\n",
    "        self.fc2 = nn.Linear(120, 84)\n",
    "        self.fc3 = nn.Linear(84, 10)\n",
    "        self.relu = nn.ReLU()\n",
    "\n",
    "    def forward(self, x):\n",
    "        l1 = self.fc1(x)\n",
    "        a1 = self.relu(l1)\n",
    "        l2 = self.fc2(a1)\n",
    "        a2 = self.relu(l2)\n",
    "        out = self.fc3(a2)\n",
    "        return out"
   ]
  },
  {
   "cell_type": "markdown",
   "metadata": {},
   "source": [
    "Посчитаем параметры нейросети:"
   ]
  },
  {
   "cell_type": "code",
   "execution_count": 66,
   "metadata": {},
   "outputs": [],
   "source": [
    "our_model = OurFirstNet()"
   ]
  },
  {
   "cell_type": "code",
   "execution_count": 67,
   "metadata": {},
   "outputs": [
    {
     "data": {
      "text/plain": [
       "105214"
      ]
     },
     "execution_count": 67,
     "metadata": {},
     "output_type": "execute_result"
    }
   ],
   "source": [
    "def count_parameters(model):\n",
    "    return sum(param.data.numpy().size for param \\\n",
    "               in model.parameters() if param.requires_grad)\n",
    "\n",
    "count_parameters(our_model)"
   ]
  },
  {
   "cell_type": "markdown",
   "metadata": {},
   "source": [
    "### Обучение нейросети"
   ]
  },
  {
   "cell_type": "markdown",
   "metadata": {},
   "source": [
    "Определим функционал качества (он включает слой Softmax):"
   ]
  },
  {
   "cell_type": "code",
   "execution_count": 68,
   "metadata": {},
   "outputs": [],
   "source": [
    "criterion = nn.CrossEntropyLoss()"
   ]
  },
  {
   "cell_type": "markdown",
   "metadata": {},
   "source": [
    "Зададим оптимизатор, реализующий стохастический градиентный спуск:"
   ]
  },
  {
   "cell_type": "code",
   "execution_count": 69,
   "metadata": {},
   "outputs": [],
   "source": [
    "opt = torch.optim.SGD(our_model.parameters(), lr=0.1)"
   ]
  },
  {
   "cell_type": "markdown",
   "metadata": {},
   "source": [
    "Во время обучения модели удобно контролировать качество и на обучении, и на тесте - возникает дублирующий код. Поэтому мы вынесем в отдельную функцию оценку модели, и в отдельную функцию - одну эпоху обучения (один проход по всей обучающей выборке)."
   ]
  },
  {
   "cell_type": "code",
   "execution_count": 78,
   "metadata": {},
   "outputs": [],
   "source": [
    "def train_epoch(model, optimizer, train_loader, criterion):\n",
    "    for x_batch, y_batch in train_loader:\n",
    "        optimizer.zero_grad()\n",
    "        output = model(x_batch) # проход вперед (выполнение предсказаий)\n",
    "        \n",
    "        loss = criterion(output, y_batch) # вычисление функционала качества\n",
    "        loss.backward() # проход назад (вычисление градиентнов)\n",
    "        optimizer.step() # шаг стохастического градиентного спуска (обновление параметров)\n",
    "\n",
    "def evaluate_loss_acc(model, loader, criterion):\n",
    "    with torch.no_grad(): # сообщаем библиотеке, что вычисление градиентов не потребуется\n",
    "        cumloss, cumacc = 0, 0\n",
    "        num_objects = 0\n",
    "        for x_batch, y_batch in loader:\n",
    "            output = model(x_batch) # проход вперед (выполнение предсказаий)\n",
    "            loss = criterion(output, y_batch) # вычисление функционала качества\n",
    "            pred = torch.max(output, 1)[1] # выбор предсказанных классов\n",
    "            acc = torch.sum(pred == y_batch) # вычисление точности \n",
    "\n",
    "            cumloss += loss.item()\n",
    "            cumacc += acc.item()\n",
    "            num_objects += len(x_batch)\n",
    "    return cumloss / num_objects, cumacc / num_objects\n",
    "    \n",
    "    \n",
    "def train(model, opt, train_loader, test_loader, criterion, \\\n",
    "          n_epochs=10, print_info=True):\n",
    "    train_log, train_acc_log = [], []\n",
    "    val_log, val_acc_log = [], []\n",
    "\n",
    "    for epoch in range(n_epochs):\n",
    "        train_epoch(model, opt, train_loader, criterion)\n",
    "        train_loss, train_acc = evaluate_loss_acc(model, train_loader, \n",
    "                                                  criterion)\n",
    "        val_loss, val_acc = evaluate_loss_acc(model, test_loader, \n",
    "                                              criterion)\n",
    "\n",
    "        train_log.append(train_loss)\n",
    "        train_acc_log.append(train_acc)\n",
    "\n",
    "        val_log.append(val_loss)\n",
    "        val_acc_log.append(val_acc)\n",
    "        \n",
    "        if print_info:\n",
    "            print (('Эпоха [%d/%d], функц. кач. (train/test): %.4f/%.4f,'+\\\n",
    "               ' точность (train/test): %.4f/%.4f' )\n",
    "                   %(epoch+1, n_epochs, \\\n",
    "                     train_loss, val_loss, train_acc, val_acc))\n",
    "            \n",
    "    return train_log, train_acc_log, val_log, val_acc_log"
   ]
  },
  {
   "cell_type": "markdown",
   "metadata": {},
   "source": [
    "Обучим нашу нейронную сеть:"
   ]
  },
  {
   "cell_type": "code",
   "execution_count": 71,
   "metadata": {},
   "outputs": [
    {
     "name": "stdout",
     "output_type": "stream",
     "text": [
      "Эпоха [1/20], функц. кач. (train/test): 0.0343/0.0344, точность (train/test): 0.2821/0.2788\n",
      "Эпоха [2/20], функц. кач. (train/test): 0.0294/0.0294, точность (train/test): 0.5561/0.5564\n",
      "Эпоха [3/20], функц. кач. (train/test): 0.0191/0.0191, точность (train/test): 0.7374/0.7429\n",
      "Эпоха [4/20], функц. кач. (train/test): 0.0125/0.0124, точность (train/test): 0.8127/0.8190\n",
      "Эпоха [5/20], функц. кач. (train/test): 0.0098/0.0096, точность (train/test): 0.8390/0.8419\n",
      "Эпоха [6/20], функц. кач. (train/test): 0.0084/0.0082, точность (train/test): 0.8561/0.8581\n",
      "Эпоха [7/20], функц. кач. (train/test): 0.0075/0.0074, точность (train/test): 0.8713/0.8706\n",
      "Эпоха [8/20], функц. кач. (train/test): 0.0069/0.0068, точность (train/test): 0.8787/0.8778\n",
      "Эпоха [9/20], функц. кач. (train/test): 0.0065/0.0064, точность (train/test): 0.8853/0.8830\n",
      "Эпоха [10/20], функц. кач. (train/test): 0.0062/0.0061, точность (train/test): 0.8913/0.8869\n",
      "Эпоха [11/20], функц. кач. (train/test): 0.0059/0.0059, точность (train/test): 0.8955/0.8907\n",
      "Эпоха [12/20], функц. кач. (train/test): 0.0057/0.0057, точность (train/test): 0.8990/0.8944\n",
      "Эпоха [13/20], функц. кач. (train/test): 0.0055/0.0056, точность (train/test): 0.9023/0.8969\n",
      "Эпоха [14/20], функц. кач. (train/test): 0.0053/0.0054, точность (train/test): 0.9044/0.8987\n",
      "Эпоха [15/20], функц. кач. (train/test): 0.0052/0.0053, точность (train/test): 0.9077/0.9006\n",
      "Эпоха [16/20], функц. кач. (train/test): 0.0050/0.0052, точность (train/test): 0.9095/0.9035\n",
      "Эпоха [17/20], функц. кач. (train/test): 0.0049/0.0051, точность (train/test): 0.9112/0.9057\n",
      "Эпоха [18/20], функц. кач. (train/test): 0.0048/0.0050, точность (train/test): 0.9129/0.9074\n",
      "Эпоха [19/20], функц. кач. (train/test): 0.0047/0.0049, точность (train/test): 0.9153/0.9085\n",
      "Эпоха [20/20], функц. кач. (train/test): 0.0046/0.0048, точность (train/test): 0.9175/0.9101\n"
     ]
    }
   ],
   "source": [
    "### your code here\n",
    "results = train(our_model, opt, train_loader, test_loader, criterion, \\\n",
    "      n_epochs=20)"
   ]
  },
  {
   "cell_type": "markdown",
   "metadata": {},
   "source": [
    "\n",
    "### Пробуем разную длину шага и размер мини-батча"
   ]
  },
  {
   "cell_type": "markdown",
   "metadata": {},
   "source": [
    "У нейросетей много гиперпараметров, один из самых важных - длина шага. Этот гиперпараметр нужно подбирать индивидуально для каждой задачи. Хорошая новость - довольно часто длину шага удается подобрать, используя только обучающую выборку!\n",
    "\n",
    "Попробуем использовать разную длину шага:"
   ]
  },
  {
   "cell_type": "code",
   "execution_count": 95,
   "metadata": {},
   "outputs": [],
   "source": [
    "train_acc_history = []\n",
    "val_acc_history  = []\n",
    "for lr in [1e-4, 1e-3, 1e-2, 1e-1, 1]:\n",
    "        # создаем новую модель\n",
    "        my_nn = OurFirstNet()\n",
    "        # установка длины шага\n",
    "        optimizer = torch.optim.SGD(my_nn.parameters(), lr=lr)\n",
    "        # обучение модели\n",
    "        _, train_acc_log, _, val_acc_log = train(my_nn, \n",
    "                                                 optimizer, \n",
    "                                                 train_loader, \n",
    "                                                 test_loader,\n",
    "                                                 criterion,\n",
    "                                                 n_epochs=20, \n",
    "                                                 print_info=False)\n",
    "        \n",
    "        train_acc_history.append(train_acc_log)\n",
    "        val_acc_history.append(val_acc_log)"
   ]
  },
  {
   "cell_type": "code",
   "execution_count": 98,
   "metadata": {},
   "outputs": [
    {
     "data": {
      "text/plain": [
       "<matplotlib.legend.Legend at 0x2ae861522b00>"
      ]
     },
     "execution_count": 98,
     "metadata": {},
     "output_type": "execute_result"
    },
    {
     "data": {
      "image/png": "[encoded data removed]",
      "text/plain": [
       "<Figure size 1080x360 with 2 Axes>"
      ]
     },
     "metadata": {
      "needs_background": "light"
     },
     "output_type": "display_data"
    }
   ],
   "source": [
    "f, (ax1, ax2) = plt.subplots(1, 2, figsize=(15, 5))\n",
    "\n",
    "ax1.set_title(\"Train accuracy\", fontsize=15)\n",
    "ax2.set_title(\"Test accuracy\", fontsize=15)\n",
    "ax1.set_xlabel(\"шаги обучения\", fontsize=15)\n",
    "ax2.set_xlabel(\"шаги обучения\", fontsize=15)\n",
    "t = 0\n",
    "for lr in [1e-4, 1e-3, 1e-2, 1e-1, 1]:\n",
    "        ax1.plot(train_acc_history[t], \n",
    "                 label=\"lr =\" +str(lr))\n",
    "        ax2.plot(val_acc_history[t], \n",
    "                 label=\"lr =\" +str(lr))\n",
    "        t+=1\n",
    "ax2.legend(fontsize=15)       "
   ]
  },
  {
   "cell_type": "markdown",
   "metadata": {},
   "source": [
    "С маленькой длиной шага алгоритм обучается слишком медленно, не успевая достичь высокого качества. Со слишком большой длиной шага алгоритм, наоборот, не сходится, то есть вообще не сможет достичь высокого качества. Нужно выбирать оптимальную длину шага."
   ]
  }
 ],
 "metadata": {
  "kernelspec": {
   "display_name": "Python 3",
   "language": "python",
   "name": "python3"
  },
  "language_info": {
   "codemirror_mode": {
    "name": "ipython",
    "version": 3
   },
   "file_extension": ".py",
   "mimetype": "text/x-python",
   "name": "python",
   "nbconvert_exporter": "python",
   "pygments_lexer": "ipython3",
   "version": "3.7.2"
  }
 },
 "nbformat": 4,
 "nbformat_minor": 2
}
